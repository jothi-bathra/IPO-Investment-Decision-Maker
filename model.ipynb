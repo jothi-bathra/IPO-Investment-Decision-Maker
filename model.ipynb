{
 "cells": [
  {
   "cell_type": "code",
   "execution_count": 1,
   "metadata": {},
   "outputs": [
    {
     "name": "stderr",
     "output_type": "stream",
     "text": [
      "C:\\Users\\jothi\\anaconda3\\lib\\site-packages\\pandas\\core\\computation\\expressions.py:20: UserWarning: Pandas requires version '2.7.3' or newer of 'numexpr' (version '2.7.1' currently installed).\n",
      "  from pandas.core.computation.check import NUMEXPR_INSTALLED\n"
     ]
    }
   ],
   "source": [
    "import pandas as pd\n",
    "import numpy as np\n",
    "from sklearn.model_selection import train_test_split\n",
    "from sklearn.preprocessing import StandardScaler, LabelEncoder\n",
    "from tensorflow import keras\n",
    "from tensorflow.keras import layers, regularizers\n",
    "from imblearn.over_sampling import SMOTE\n",
    "import xgboost\n",
    "import seaborn as sns\n",
    "sns.set(rc={'figure.figsize':(15,8)})"
   ]
  },
  {
   "cell_type": "code",
   "execution_count": 39,
   "metadata": {},
   "outputs": [
    {
     "name": "stdout",
     "output_type": "stream",
     "text": [
      "Requirement already satisfied: pip in c:\\users\\jothi\\anaconda3\\lib\\site-packages (23.2.1)Note: you may need to restart the kernel to use updated packages.\n"
     ]
    },
    {
     "name": "stderr",
     "output_type": "stream",
     "text": [
      "DEPRECATION: pyodbc 4.0.0-unsupported has a non-standard version number. pip 23.3 will enforce this behaviour change. A possible replacement is to upgrade to a newer version of pyodbc or contact the author to suggest that they release a version with a conforming version number. Discussion can be found at https://github.com/pypa/pip/issues/12063\n"
     ]
    },
    {
     "name": "stdout",
     "output_type": "stream",
     "text": [
      "\n"
     ]
    }
   ],
   "source": [
    "pip install --upgrade pip\n"
   ]
  },
  {
   "cell_type": "code",
   "execution_count": 2,
   "metadata": {},
   "outputs": [],
   "source": [
    "df = pd.read_csv('IPOfinal.csv')"
   ]
  },
  {
   "cell_type": "code",
   "execution_count": 29,
   "metadata": {},
   "outputs": [
    {
     "data": {
      "text/plain": [
       "Index(['Unnamed: 0.3', 'Unnamed: 0', 'Date', 'IPO_Name', 'Issue_Size(crores)',\n",
       "       'QIB', 'HNI', 'RII', 'Issue_price', 'Listing_Open', 'Listing_Close',\n",
       "       'Listing_Gains(%)', 'CMP', 'Current_gains', 'Year', 'Unnamed: 0.1',\n",
       "       'Unnamed: 0.2', 'Name', 'City', 'Country', 'Industry', 'Sector', 'Size',\n",
       "       'Dividend / Share', 'Revenue from Operations / share',\n",
       "       'Return on Networth / Equity (%)', 'Dividend Payout Ratio (NP) (%)',\n",
       "       'Cash Earnings Retention Ratio (%)', 'Listing_Gains(%).1'],\n",
       "      dtype='object')"
      ]
     },
     "execution_count": 29,
     "metadata": {},
     "output_type": "execute_result"
    }
   ],
   "source": [
    "df.columns"
   ]
  },
  {
   "cell_type": "code",
   "execution_count": 30,
   "metadata": {},
   "outputs": [
    {
     "data": {
      "text/html": [
       "<div>\n",
       "<style scoped>\n",
       "    .dataframe tbody tr th:only-of-type {\n",
       "        vertical-align: middle;\n",
       "    }\n",
       "\n",
       "    .dataframe tbody tr th {\n",
       "        vertical-align: top;\n",
       "    }\n",
       "\n",
       "    .dataframe thead th {\n",
       "        text-align: right;\n",
       "    }\n",
       "</style>\n",
       "<table border=\"1\" class=\"dataframe\">\n",
       "  <thead>\n",
       "    <tr style=\"text-align: right;\">\n",
       "      <th></th>\n",
       "      <th>Unnamed: 0.3</th>\n",
       "      <th>Unnamed: 0</th>\n",
       "      <th>Date</th>\n",
       "      <th>IPO_Name</th>\n",
       "      <th>Issue_Size(crores)</th>\n",
       "      <th>QIB</th>\n",
       "      <th>HNI</th>\n",
       "      <th>RII</th>\n",
       "      <th>Issue_price</th>\n",
       "      <th>Listing_Open</th>\n",
       "      <th>...</th>\n",
       "      <th>Country</th>\n",
       "      <th>Industry</th>\n",
       "      <th>Sector</th>\n",
       "      <th>Size</th>\n",
       "      <th>Dividend / Share</th>\n",
       "      <th>Revenue from Operations / share</th>\n",
       "      <th>Return on Networth / Equity (%)</th>\n",
       "      <th>Dividend Payout Ratio (NP) (%)</th>\n",
       "      <th>Cash Earnings Retention Ratio (%)</th>\n",
       "      <th>Listing_Gains(%).1</th>\n",
       "    </tr>\n",
       "  </thead>\n",
       "  <tbody>\n",
       "    <tr>\n",
       "      <th>0</th>\n",
       "      <td>0</td>\n",
       "      <td>0</td>\n",
       "      <td>26-11-2021</td>\n",
       "      <td>Tarsons Product</td>\n",
       "      <td>1030.22</td>\n",
       "      <td>1.06</td>\n",
       "      <td>3.40</td>\n",
       "      <td>2.49</td>\n",
       "      <td>662</td>\n",
       "      <td>700.0</td>\n",
       "      <td>...</td>\n",
       "      <td>India</td>\n",
       "      <td>Medical Instruments &amp; Supplies</td>\n",
       "      <td>Healthcare</td>\n",
       "      <td>5515</td>\n",
       "      <td>1.00</td>\n",
       "      <td>150</td>\n",
       "      <td>3.00</td>\n",
       "      <td>4.00</td>\n",
       "      <td>5.00</td>\n",
       "      <td>26.89</td>\n",
       "    </tr>\n",
       "    <tr>\n",
       "      <th>1</th>\n",
       "      <td>1</td>\n",
       "      <td>1</td>\n",
       "      <td>23-11-2021</td>\n",
       "      <td>Latent View</td>\n",
       "      <td>622.11</td>\n",
       "      <td>145.48</td>\n",
       "      <td>850.66</td>\n",
       "      <td>119.44</td>\n",
       "      <td>197</td>\n",
       "      <td>530.0</td>\n",
       "      <td>...</td>\n",
       "      <td>India</td>\n",
       "      <td>Consulting Services</td>\n",
       "      <td>Industrials</td>\n",
       "      <td>1116</td>\n",
       "      <td>0.00</td>\n",
       "      <td>176.12</td>\n",
       "      <td>20.86</td>\n",
       "      <td>0.00</td>\n",
       "      <td>0.00</td>\n",
       "      <td>148.02</td>\n",
       "    </tr>\n",
       "    <tr>\n",
       "      <th>2</th>\n",
       "      <td>2</td>\n",
       "      <td>2</td>\n",
       "      <td>18-11-2021</td>\n",
       "      <td>Sapphire Foods</td>\n",
       "      <td>2073.00</td>\n",
       "      <td>3.11</td>\n",
       "      <td>2.34</td>\n",
       "      <td>5.25</td>\n",
       "      <td>1180</td>\n",
       "      <td>1311.0</td>\n",
       "      <td>...</td>\n",
       "      <td>India</td>\n",
       "      <td>Restaurants</td>\n",
       "      <td>Consumer Cyclical</td>\n",
       "      <td>10604</td>\n",
       "      <td>0.50</td>\n",
       "      <td>190</td>\n",
       "      <td>12.00</td>\n",
       "      <td>3.00</td>\n",
       "      <td>2.00</td>\n",
       "      <td>3.06</td>\n",
       "    </tr>\n",
       "    <tr>\n",
       "      <th>3</th>\n",
       "      <td>3</td>\n",
       "      <td>3</td>\n",
       "      <td>18-11-2021</td>\n",
       "      <td>One 97(Paytm)</td>\n",
       "      <td>18915.90</td>\n",
       "      <td>2.79</td>\n",
       "      <td>0.24</td>\n",
       "      <td>1.66</td>\n",
       "      <td>2150</td>\n",
       "      <td>1955.0</td>\n",
       "      <td>...</td>\n",
       "      <td>India</td>\n",
       "      <td>Software-Infrastructure</td>\n",
       "      <td>Technology</td>\n",
       "      <td>32798</td>\n",
       "      <td>0.00</td>\n",
       "      <td>170</td>\n",
       "      <td>1.00</td>\n",
       "      <td>0.00</td>\n",
       "      <td>0.00</td>\n",
       "      <td>-27.25</td>\n",
       "    </tr>\n",
       "    <tr>\n",
       "      <th>4</th>\n",
       "      <td>4</td>\n",
       "      <td>4</td>\n",
       "      <td>15-11-2021</td>\n",
       "      <td>SJS Enterprises</td>\n",
       "      <td>816.57</td>\n",
       "      <td>1.42</td>\n",
       "      <td>2.32</td>\n",
       "      <td>1.38</td>\n",
       "      <td>542</td>\n",
       "      <td>514.0</td>\n",
       "      <td>...</td>\n",
       "      <td>India</td>\n",
       "      <td>Auto Parts</td>\n",
       "      <td>Consumer Cyclical</td>\n",
       "      <td>473</td>\n",
       "      <td>1.20</td>\n",
       "      <td>205</td>\n",
       "      <td>19.00</td>\n",
       "      <td>0.20</td>\n",
       "      <td>0.00</td>\n",
       "      <td>-5.93</td>\n",
       "    </tr>\n",
       "    <tr>\n",
       "      <th>...</th>\n",
       "      <td>...</td>\n",
       "      <td>...</td>\n",
       "      <td>...</td>\n",
       "      <td>...</td>\n",
       "      <td>...</td>\n",
       "      <td>...</td>\n",
       "      <td>...</td>\n",
       "      <td>...</td>\n",
       "      <td>...</td>\n",
       "      <td>...</td>\n",
       "      <td>...</td>\n",
       "      <td>...</td>\n",
       "      <td>...</td>\n",
       "      <td>...</td>\n",
       "      <td>...</td>\n",
       "      <td>...</td>\n",
       "      <td>...</td>\n",
       "      <td>...</td>\n",
       "      <td>...</td>\n",
       "      <td>...</td>\n",
       "      <td>...</td>\n",
       "    </tr>\n",
       "    <tr>\n",
       "      <th>73</th>\n",
       "      <td>73</td>\n",
       "      <td>73</td>\n",
       "      <td>11-04-2019</td>\n",
       "      <td>Rail Vikas</td>\n",
       "      <td>430.88</td>\n",
       "      <td>1.36</td>\n",
       "      <td>0.80</td>\n",
       "      <td>2.92</td>\n",
       "      <td>19</td>\n",
       "      <td>19.0</td>\n",
       "      <td>...</td>\n",
       "      <td>India</td>\n",
       "      <td>Engineering &amp; Construction</td>\n",
       "      <td>Industrials</td>\n",
       "      <td>6368</td>\n",
       "      <td>0.09</td>\n",
       "      <td>48.25</td>\n",
       "      <td>16.22</td>\n",
       "      <td>29.77</td>\n",
       "      <td>70.50</td>\n",
       "      <td>0.26</td>\n",
       "    </tr>\n",
       "    <tr>\n",
       "      <th>74</th>\n",
       "      <td>74</td>\n",
       "      <td>74</td>\n",
       "      <td>01-04-2019</td>\n",
       "      <td>Embassy Office</td>\n",
       "      <td>4750.00</td>\n",
       "      <td>2.15</td>\n",
       "      <td>3.09</td>\n",
       "      <td>0.31</td>\n",
       "      <td>300</td>\n",
       "      <td>300.0</td>\n",
       "      <td>...</td>\n",
       "      <td>India</td>\n",
       "      <td>Engineering &amp; Construction</td>\n",
       "      <td>Industrials</td>\n",
       "      <td>5515</td>\n",
       "      <td>1.50</td>\n",
       "      <td>201.11</td>\n",
       "      <td>11.85</td>\n",
       "      <td>12.84</td>\n",
       "      <td>89.85</td>\n",
       "      <td>4.70</td>\n",
       "    </tr>\n",
       "    <tr>\n",
       "      <th>75</th>\n",
       "      <td>75</td>\n",
       "      <td>75</td>\n",
       "      <td>29-03-2019</td>\n",
       "      <td>MSTC</td>\n",
       "      <td>213.81</td>\n",
       "      <td>1.13</td>\n",
       "      <td>2.15</td>\n",
       "      <td>2.95</td>\n",
       "      <td>128</td>\n",
       "      <td>111.0</td>\n",
       "      <td>...</td>\n",
       "      <td>India</td>\n",
       "      <td>Conglomerates</td>\n",
       "      <td>Industrials</td>\n",
       "      <td>6368</td>\n",
       "      <td>0.00</td>\n",
       "      <td>21</td>\n",
       "      <td>0.50</td>\n",
       "      <td>0.00</td>\n",
       "      <td>0.00</td>\n",
       "      <td>-10.78</td>\n",
       "    </tr>\n",
       "    <tr>\n",
       "      <th>76</th>\n",
       "      <td>76</td>\n",
       "      <td>76</td>\n",
       "      <td>07-02-2019</td>\n",
       "      <td>Chalet Hotels</td>\n",
       "      <td>1628.84</td>\n",
       "      <td>4.66</td>\n",
       "      <td>1.10</td>\n",
       "      <td>0.03</td>\n",
       "      <td>280</td>\n",
       "      <td>291.0</td>\n",
       "      <td>...</td>\n",
       "      <td>India</td>\n",
       "      <td>Lodging</td>\n",
       "      <td>Consumer Cyclical</td>\n",
       "      <td>1725</td>\n",
       "      <td>0.00</td>\n",
       "      <td>48.15</td>\n",
       "      <td>-0.70</td>\n",
       "      <td>0.00</td>\n",
       "      <td>0.00</td>\n",
       "      <td>3.71</td>\n",
       "    </tr>\n",
       "    <tr>\n",
       "      <th>77</th>\n",
       "      <td>77</td>\n",
       "      <td>77</td>\n",
       "      <td>04-02-2019</td>\n",
       "      <td>Xelpmoc Design</td>\n",
       "      <td>23.00</td>\n",
       "      <td>1.24</td>\n",
       "      <td>7.69</td>\n",
       "      <td>2.64</td>\n",
       "      <td>66</td>\n",
       "      <td>56.0</td>\n",
       "      <td>...</td>\n",
       "      <td>India</td>\n",
       "      <td>Information Technology Services</td>\n",
       "      <td>Technology</td>\n",
       "      <td>9116</td>\n",
       "      <td>0.00</td>\n",
       "      <td>250</td>\n",
       "      <td>24.00</td>\n",
       "      <td>0.00</td>\n",
       "      <td>0.00</td>\n",
       "      <td>-10.91</td>\n",
       "    </tr>\n",
       "  </tbody>\n",
       "</table>\n",
       "<p>78 rows × 29 columns</p>\n",
       "</div>"
      ],
      "text/plain": [
       "    Unnamed: 0.3  Unnamed: 0        Date         IPO_Name  Issue_Size(crores)  \\\n",
       "0              0           0  26-11-2021  Tarsons Product             1030.22   \n",
       "1              1           1  23-11-2021      Latent View              622.11   \n",
       "2              2           2  18-11-2021   Sapphire Foods             2073.00   \n",
       "3              3           3  18-11-2021    One 97(Paytm)            18915.90   \n",
       "4              4           4  15-11-2021  SJS Enterprises              816.57   \n",
       "..           ...         ...         ...              ...                 ...   \n",
       "73            73          73  11-04-2019       Rail Vikas              430.88   \n",
       "74            74          74  01-04-2019   Embassy Office             4750.00   \n",
       "75            75          75  29-03-2019             MSTC              213.81   \n",
       "76            76          76  07-02-2019    Chalet Hotels             1628.84   \n",
       "77            77          77  04-02-2019  Xelpmoc Design                23.00   \n",
       "\n",
       "       QIB     HNI     RII  Issue_price  Listing_Open  ...  Country  \\\n",
       "0     1.06    3.40    2.49          662         700.0  ...    India   \n",
       "1   145.48  850.66  119.44          197         530.0  ...    India   \n",
       "2     3.11    2.34    5.25         1180        1311.0  ...    India   \n",
       "3     2.79    0.24    1.66         2150        1955.0  ...    India   \n",
       "4     1.42    2.32    1.38          542         514.0  ...    India   \n",
       "..     ...     ...     ...          ...           ...  ...      ...   \n",
       "73    1.36    0.80    2.92           19          19.0  ...    India   \n",
       "74    2.15    3.09    0.31          300         300.0  ...    India   \n",
       "75    1.13    2.15    2.95          128         111.0  ...    India   \n",
       "76    4.66    1.10    0.03          280         291.0  ...    India   \n",
       "77    1.24    7.69    2.64           66          56.0  ...    India   \n",
       "\n",
       "                           Industry             Sector   Size  \\\n",
       "0    Medical Instruments & Supplies         Healthcare   5515   \n",
       "1               Consulting Services        Industrials   1116   \n",
       "2                       Restaurants  Consumer Cyclical  10604   \n",
       "3           Software-Infrastructure         Technology  32798   \n",
       "4                        Auto Parts  Consumer Cyclical    473   \n",
       "..                              ...                ...    ...   \n",
       "73       Engineering & Construction        Industrials   6368   \n",
       "74       Engineering & Construction        Industrials   5515   \n",
       "75                    Conglomerates        Industrials   6368   \n",
       "76                          Lodging  Consumer Cyclical   1725   \n",
       "77  Information Technology Services         Technology   9116   \n",
       "\n",
       "    Dividend / Share  Revenue from Operations / share  \\\n",
       "0               1.00                              150   \n",
       "1               0.00                           176.12   \n",
       "2               0.50                              190   \n",
       "3               0.00                              170   \n",
       "4               1.20                              205   \n",
       "..               ...                              ...   \n",
       "73              0.09                            48.25   \n",
       "74              1.50                           201.11   \n",
       "75              0.00                               21   \n",
       "76              0.00                            48.15   \n",
       "77              0.00                              250   \n",
       "\n",
       "    Return on Networth / Equity (%) Dividend Payout Ratio (NP) (%)  \\\n",
       "0                              3.00                           4.00   \n",
       "1                             20.86                           0.00   \n",
       "2                             12.00                           3.00   \n",
       "3                              1.00                           0.00   \n",
       "4                             19.00                           0.20   \n",
       "..                              ...                            ...   \n",
       "73                            16.22                          29.77   \n",
       "74                            11.85                          12.84   \n",
       "75                             0.50                           0.00   \n",
       "76                            -0.70                           0.00   \n",
       "77                            24.00                           0.00   \n",
       "\n",
       "   Cash Earnings Retention Ratio (%) Listing_Gains(%).1  \n",
       "0                               5.00              26.89  \n",
       "1                               0.00             148.02  \n",
       "2                               2.00               3.06  \n",
       "3                               0.00             -27.25  \n",
       "4                               0.00              -5.93  \n",
       "..                               ...                ...  \n",
       "73                             70.50               0.26  \n",
       "74                             89.85               4.70  \n",
       "75                              0.00             -10.78  \n",
       "76                              0.00               3.71  \n",
       "77                              0.00             -10.91  \n",
       "\n",
       "[78 rows x 29 columns]"
      ]
     },
     "execution_count": 30,
     "metadata": {},
     "output_type": "execute_result"
    }
   ],
   "source": [
    "df"
   ]
  },
  {
   "cell_type": "code",
   "execution_count": 3,
   "metadata": {},
   "outputs": [],
   "source": [
    "df = df[['Year','Issue_Size(crores)','Issue_price','City', 'Country', 'Industry', 'Sector', 'Size','Dividend / Share', 'Revenue from Operations / share',\n",
    "       'Return on Networth / Equity (%)', 'Dividend Payout Ratio (NP) (%)',\n",
    "       'Cash Earnings Retention Ratio (%)','Listing_Gains(%)']]"
   ]
  },
  {
   "cell_type": "code",
   "execution_count": 32,
   "metadata": {},
   "outputs": [
    {
     "data": {
      "text/plain": [
       "Year                                   int64\n",
       "Issue_Size(crores)                   float64\n",
       "Issue_price                            int64\n",
       "City                                  object\n",
       "Country                               object\n",
       "Industry                              object\n",
       "Sector                                object\n",
       "Size                                   int64\n",
       "Dividend / Share                     float64\n",
       "Revenue from Operations / share       object\n",
       "Return on Networth / Equity (%)      float64\n",
       "Dividend Payout Ratio (NP) (%)       float64\n",
       "Cash Earnings Retention Ratio (%)    float64\n",
       "Listing_Gains(%)                     float64\n",
       "dtype: object"
      ]
     },
     "execution_count": 32,
     "metadata": {},
     "output_type": "execute_result"
    }
   ],
   "source": [
    "df.dtypes"
   ]
  },
  {
   "cell_type": "code",
   "execution_count": 33,
   "metadata": {},
   "outputs": [
    {
     "name": "stdout",
     "output_type": "stream",
     "text": [
      "              Year  Issue_Size(crores)  Issue_price          Size  \\\n",
      "count    78.000000           78.000000    78.000000     78.000000   \n",
      "mean   2020.500000         1941.646667   530.705128   4447.474359   \n",
      "std       0.768706         2888.006768   438.394684   4971.964431   \n",
      "min    2019.000000            0.000000     0.000000     41.000000   \n",
      "25%    2020.000000          502.500000   180.250000   1242.000000   \n",
      "50%    2021.000000          808.285000   426.500000   3607.000000   \n",
      "75%    2021.000000         2127.750000   752.250000   5465.250000   \n",
      "max    2021.000000        18915.900000  2150.000000  32798.000000   \n",
      "\n",
      "       Dividend / Share  Return on Networth / Equity (%)  \\\n",
      "count         78.000000                        78.000000   \n",
      "mean           2.001282                        14.534103   \n",
      "std            3.370327                        13.544972   \n",
      "min            0.000000                       -11.420000   \n",
      "25%            0.000000                         4.110000   \n",
      "50%            0.650000                        11.790000   \n",
      "75%            2.375000                        21.107500   \n",
      "max           18.930000                        56.000000   \n",
      "\n",
      "       Dividend Payout Ratio (NP) (%)  Cash Earnings Retention Ratio (%)  \\\n",
      "count                       78.000000                          78.000000   \n",
      "mean                         8.834615                          19.729872   \n",
      "std                         25.891869                          34.350996   \n",
      "min                          0.000000                          -7.990000   \n",
      "25%                          0.000000                           0.000000   \n",
      "50%                          1.100000                           2.000000   \n",
      "75%                          3.925000                           7.000000   \n",
      "max                        198.750000                          98.470000   \n",
      "\n",
      "       Listing_Gains(%)  \n",
      "count         78.000000  \n",
      "mean          31.635897  \n",
      "std           52.355720  \n",
      "min          -54.460000  \n",
      "25%           -3.305000  \n",
      "50%           14.890000  \n",
      "75%           49.115000  \n",
      "max          270.400000  \n"
     ]
    }
   ],
   "source": [
    "print(df.describe())"
   ]
  },
  {
   "cell_type": "code",
   "execution_count": 4,
   "metadata": {},
   "outputs": [],
   "source": [
    "def conv(x):\n",
    "    if x>=0:\n",
    "        return 'P'\n",
    "    else:\n",
    "        return 'L'\n",
    "\n",
    "df['PL'] = df['Listing_Gains(%)'].apply(conv)"
   ]
  },
  {
   "cell_type": "code",
   "execution_count": 90,
   "metadata": {},
   "outputs": [
    {
     "data": {
      "text/plain": [
       "PL\n",
       "P    55\n",
       "L    23\n",
       "Name: count, dtype: int64"
      ]
     },
     "execution_count": 90,
     "metadata": {},
     "output_type": "execute_result"
    }
   ],
   "source": [
    "df['PL'].value_counts()"
   ]
  },
  {
   "cell_type": "code",
   "execution_count": null,
   "metadata": {},
   "outputs": [],
   "source": []
  },
  {
   "cell_type": "code",
   "execution_count": 5,
   "metadata": {},
   "outputs": [],
   "source": [
    "label_encoder = LabelEncoder()\n",
    "for column in ['City', 'Country','Industry','Sector','PL']:\n",
    "    df[column] = label_encoder.fit_transform(df[column])"
   ]
  },
  {
   "cell_type": "code",
   "execution_count": 37,
   "metadata": {},
   "outputs": [
    {
     "data": {
      "text/plain": [
       "Sector\n",
       "0    15\n",
       "2    14\n",
       "6    13\n",
       "4    13\n",
       "5    10\n",
       "8     5\n",
       "1     4\n",
       "3     2\n",
       "9     1\n",
       "7     1\n",
       "Name: count, dtype: int64"
      ]
     },
     "execution_count": 37,
     "metadata": {},
     "output_type": "execute_result"
    }
   ],
   "source": [
    "\n",
    "df['Sector'].value_counts()"
   ]
  },
  {
   "cell_type": "code",
   "execution_count": 38,
   "metadata": {},
   "outputs": [
    {
     "name": "stdout",
     "output_type": "stream",
     "text": [
      "Year                                 0\n",
      "Issue_Size(crores)                   0\n",
      "Issue_price                          0\n",
      "City                                 0\n",
      "Country                              0\n",
      "Industry                             0\n",
      "Sector                               0\n",
      "Size                                 0\n",
      "Dividend / Share                     0\n",
      "Revenue from Operations / share      0\n",
      "Return on Networth / Equity (%)      0\n",
      "Dividend Payout Ratio (NP) (%)       0\n",
      "Cash Earnings Retention Ratio (%)    0\n",
      "Listing_Gains(%)                     0\n",
      "PL                                   0\n",
      "dtype: int64\n"
     ]
    }
   ],
   "source": [
    "print(df.isna().sum())"
   ]
  },
  {
   "cell_type": "code",
   "execution_count": 39,
   "metadata": {},
   "outputs": [
    {
     "name": "stdout",
     "output_type": "stream",
     "text": [
      "Year                                 0\n",
      "Issue_Size(crores)                   0\n",
      "Issue_price                          0\n",
      "City                                 0\n",
      "Country                              0\n",
      "Industry                             0\n",
      "Sector                               0\n",
      "Size                                 0\n",
      "Dividend / Share                     0\n",
      "Revenue from Operations / share      0\n",
      "Return on Networth / Equity (%)      0\n",
      "Dividend Payout Ratio (NP) (%)       0\n",
      "Cash Earnings Retention Ratio (%)    0\n",
      "Listing_Gains(%)                     0\n",
      "PL                                   0\n",
      "dtype: int64\n"
     ]
    }
   ],
   "source": [
    "print(df.isnull().sum())"
   ]
  },
  {
   "cell_type": "code",
   "execution_count": 13,
   "metadata": {},
   "outputs": [
    {
     "data": {
      "image/png": "[encoded data removed]",
      "text/plain": [
       "<Figure size 1080x576 with 1 Axes>"
      ]
     },
     "metadata": {},
     "output_type": "display_data"
    }
   ],
   "source": [
    "import matplotlib.pyplot as plt\n",
    "sns.countplot(x='Sector',hue='PL',data=df)\n",
    "plt.show()"
   ]
  },
  {
   "cell_type": "code",
   "execution_count": 17,
   "metadata": {},
   "outputs": [
    {
     "data": {
      "image/png": "[encoded data removed]",
      "text/plain": [
       "<Figure size 540x540 with 12 Axes>"
      ]
     },
     "metadata": {},
     "output_type": "display_data"
    }
   ],
   "source": [
    "sns.pairplot(df[['Issue_Size(crores)', 'Issue_price', 'Dividend / Share', 'Revenue from Operations / share']])\n",
    "plt.suptitle('Pairwise Relationships')\n",
    "plt.show()\n"
   ]
  },
  {
   "cell_type": "code",
   "execution_count": 18,
   "metadata": {},
   "outputs": [
    {
     "data": {
      "image/png": "[encoded data removed]",
      "text/plain": [
       "<Figure size 720x432 with 1 Axes>"
      ]
     },
     "metadata": {},
     "output_type": "display_data"
    }
   ],
   "source": [
    "plt.figure(figsize=(10, 6))\n",
    "sns.boxplot(data=df, x='Sector', y='Issue_price')\n",
    "plt.title('Issue Price by Sector')\n",
    "plt.xlabel('Sector')\n",
    "plt.ylabel('Issue Price')\n",
    "plt.xticks(rotation=45)\n",
    "plt.show()\n"
   ]
  },
  {
   "cell_type": "code",
   "execution_count": 19,
   "metadata": {},
   "outputs": [
    {
     "data": {
      "image/png": "[encoded data removed]",
      "text/plain": [
       "<Figure size 1080x576 with 1 Axes>"
      ]
     },
     "metadata": {},
     "output_type": "display_data"
    }
   ],
   "source": [
    "sns.countplot(x='Year',hue='PL',data=df)\n",
    "plt.show()"
   ]
  },
  {
   "cell_type": "code",
   "execution_count": 20,
   "metadata": {},
   "outputs": [
    {
     "data": {
      "image/png": "[encoded data removed]",
      "text/plain": [
       "<Figure size 864x432 with 1 Axes>"
      ]
     },
     "metadata": {},
     "output_type": "display_data"
    }
   ],
   "source": [
    "plt.figure(figsize=(12, 6))\n",
    "sns.barplot(data=df, x='Sector', y='Dividend / Share')\n",
    "plt.title('Average Dividend per Share by Country')\n",
    "plt.xlabel('Country')\n",
    "plt.ylabel('Dividend / Share')\n",
    "plt.show()\n"
   ]
  },
  {
   "cell_type": "code",
   "execution_count": 21,
   "metadata": {},
   "outputs": [
    {
     "data": {
      "text/plain": [
       "<AxesSubplot:xlabel='PL', ylabel='Issue_Size(crores)'>"
      ]
     },
     "execution_count": 21,
     "metadata": {},
     "output_type": "execute_result"
    },
    {
     "data": {
      "image/png": "[encoded data removed]",
      "text/plain": [
       "<Figure size 1080x576 with 1 Axes>"
      ]
     },
     "metadata": {},
     "output_type": "display_data"
    }
   ],
   "source": [
    "sns.boxplot(x='PL', y='Issue_Size(crores)', data=df)"
   ]
  },
  {
   "cell_type": "code",
   "execution_count": 6,
   "metadata": {},
   "outputs": [],
   "source": [
    "df=df.drop(['Listing_Gains(%)'], axis=1)\n",
    "df=df.drop(['Year'], axis=1)"
   ]
  },
  {
   "cell_type": "code",
   "execution_count": 7,
   "metadata": {},
   "outputs": [],
   "source": [
    "def conv2(x):\n",
    "    l=list(x)\n",
    "    if \",\" in l:\n",
    "        l.remove(',')\n",
    "    y=''.join(l)\n",
    "    return float(y)\n",
    "\n",
    "df['Revenue from Operations / share'] = df['Revenue from Operations / share'].apply(conv2)"
   ]
  },
  {
   "cell_type": "code",
   "execution_count": 78,
   "metadata": {},
   "outputs": [
    {
     "data": {
      "text/plain": [
       "Issue_Size(crores)                   float64\n",
       "Issue_price                            int64\n",
       "City                                   int32\n",
       "Country                                int32\n",
       "Industry                               int32\n",
       "Sector                                 int32\n",
       "Size                                   int64\n",
       "Dividend / Share                     float64\n",
       "Revenue from Operations / share      float64\n",
       "Return on Networth / Equity (%)      float64\n",
       "Dividend Payout Ratio (NP) (%)       float64\n",
       "Cash Earnings Retention Ratio (%)    float64\n",
       "PL                                     int32\n",
       "dtype: object"
      ]
     },
     "execution_count": 78,
     "metadata": {},
     "output_type": "execute_result"
    }
   ],
   "source": [
    "df.dtypes"
   ]
  },
  {
   "cell_type": "code",
   "execution_count": 17,
   "metadata": {},
   "outputs": [],
   "source": [
    "label_encoder = LabelEncoder()\n",
    "for column in ['City', 'Country','Industry','Sector','PL']:\n",
    "    df[column] = label_encoder.fit_transform(df[column])"
   ]
  },
  {
   "cell_type": "code",
   "execution_count": 18,
   "metadata": {},
   "outputs": [
    {
     "data": {
      "text/plain": [
       "Issue_Size(crores)                   float64\n",
       "Issue_price                            int64\n",
       "City                                   int32\n",
       "Country                                int32\n",
       "Industry                               int32\n",
       "Sector                                 int32\n",
       "Size                                   int64\n",
       "Dividend / Share                     float64\n",
       "Revenue from Operations / share      float64\n",
       "Return on Networth / Equity (%)      float64\n",
       "Dividend Payout Ratio (NP) (%)       float64\n",
       "Cash Earnings Retention Ratio (%)    float64\n",
       "PL                                     int32\n",
       "dtype: object"
      ]
     },
     "execution_count": 18,
     "metadata": {},
     "output_type": "execute_result"
    }
   ],
   "source": [
    "df.dtypes"
   ]
  },
  {
   "cell_type": "code",
   "execution_count": 21,
   "metadata": {},
   "outputs": [
    {
     "data": {
      "text/plain": [
       "<AxesSubplot:>"
      ]
     },
     "execution_count": 21,
     "metadata": {},
     "output_type": "execute_result"
    },
    {
     "data": {
      "image/png": "[encoded data removed]",
      "text/plain": [
       "<Figure size 1080x576 with 2 Axes>"
      ]
     },
     "metadata": {},
     "output_type": "display_data"
    }
   ],
   "source": [
    "cor=df.corr()\n",
    "sns.heatmap(cor,annot=True)"
   ]
  },
  {
   "cell_type": "code",
   "execution_count": 8,
   "metadata": {},
   "outputs": [],
   "source": [
    "y=df['PL']\n",
    "X=df.drop(['PL'],axis=1)"
   ]
  },
  {
   "cell_type": "code",
   "execution_count": 9,
   "metadata": {},
   "outputs": [],
   "source": [
    "augmented_X_train, X_test, augmented_y_train, y_test = train_test_split(X, y, test_size=0.3, random_state=42)\n"
   ]
  },
  {
   "cell_type": "code",
   "execution_count": 10,
   "metadata": {},
   "outputs": [],
   "source": [
    "augmented_X_train = augmented_X_train.to_numpy()\n",
    "augmented_y_train = augmented_y_train.to_numpy()"
   ]
  },
  {
   "cell_type": "code",
   "execution_count": 11,
   "metadata": {},
   "outputs": [],
   "source": [
    "def perform_data_augmentation(X, y, num_samples=100):\n",
    "    augmented_X = []\n",
    "    augmented_y = []\n",
    "    \n",
    "    for i in range(len(X)):\n",
    "        for _ in range(num_samples):\n",
    "            augmented_X.append(X[i] + np.random.normal(0, 0.1, size=X[i].shape))\n",
    "            augmented_y.append(y[i])\n",
    "    \n",
    "    return np.array(augmented_X), np.array(augmented_y)"
   ]
  },
  {
   "cell_type": "code",
   "execution_count": 12,
   "metadata": {},
   "outputs": [],
   "source": [
    "augmented_X_train, augmented_y_train = perform_data_augmentation(augmented_X_train, augmented_y_train)"
   ]
  },
  {
   "cell_type": "code",
   "execution_count": 13,
   "metadata": {},
   "outputs": [
    {
     "data": {
      "text/plain": [
       "array([1600, 3800], dtype=int64)"
      ]
     },
     "execution_count": 13,
     "metadata": {},
     "output_type": "execute_result"
    }
   ],
   "source": [
    "counts = np.bincount(augmented_y_train)\n",
    "counts"
   ]
  },
  {
   "cell_type": "code",
   "execution_count": 14,
   "metadata": {},
   "outputs": [],
   "source": [
    "smote = SMOTE(random_state=42)\n",
    "augmented_X_train, augmented_y_train = smote.fit_resample(augmented_X_train, augmented_y_train)"
   ]
  },
  {
   "cell_type": "code",
   "execution_count": 15,
   "metadata": {},
   "outputs": [
    {
     "data": {
      "text/plain": [
       "array([3800, 3800], dtype=int64)"
      ]
     },
     "execution_count": 15,
     "metadata": {},
     "output_type": "execute_result"
    }
   ],
   "source": [
    "counts = np.bincount(augmented_y_train)\n",
    "counts"
   ]
  },
  {
   "cell_type": "code",
   "execution_count": 36,
   "metadata": {},
   "outputs": [],
   "source": [
    "#numerical_features = ['Year', 'Issue_Size(crores)','Issue_price','Size ','Dividend / Share ','Revenue from Operations / share ','Return on Networth / Equity (%) ','Dividend Payout Ratio (NP) (%)','Cash Earnings Retention Ratio (%)']"
   ]
  },
  {
   "cell_type": "code",
   "execution_count": 24,
   "metadata": {},
   "outputs": [
    {
     "data": {
      "text/html": [
       "<div>\n",
       "<style scoped>\n",
       "    .dataframe tbody tr th:only-of-type {\n",
       "        vertical-align: middle;\n",
       "    }\n",
       "\n",
       "    .dataframe tbody tr th {\n",
       "        vertical-align: top;\n",
       "    }\n",
       "\n",
       "    .dataframe thead th {\n",
       "        text-align: right;\n",
       "    }\n",
       "</style>\n",
       "<table border=\"1\" class=\"dataframe\">\n",
       "  <thead>\n",
       "    <tr style=\"text-align: right;\">\n",
       "      <th></th>\n",
       "      <th>Issue_Size(crores)</th>\n",
       "      <th>Issue_price</th>\n",
       "      <th>City</th>\n",
       "      <th>Country</th>\n",
       "      <th>Industry</th>\n",
       "      <th>Sector</th>\n",
       "      <th>Size</th>\n",
       "      <th>Dividend / Share</th>\n",
       "      <th>Revenue from Operations / share</th>\n",
       "      <th>Return on Networth / Equity (%)</th>\n",
       "      <th>Dividend Payout Ratio (NP) (%)</th>\n",
       "      <th>Cash Earnings Retention Ratio (%)</th>\n",
       "    </tr>\n",
       "  </thead>\n",
       "  <tbody>\n",
       "    <tr>\n",
       "      <th>0</th>\n",
       "      <td>600.000000</td>\n",
       "      <td>130</td>\n",
       "      <td>9</td>\n",
       "      <td>0</td>\n",
       "      <td>37</td>\n",
       "      <td>0</td>\n",
       "      <td>874</td>\n",
       "      <td>0.500000</td>\n",
       "      <td>60.910000</td>\n",
       "      <td>11.730000</td>\n",
       "      <td>6.420000</td>\n",
       "      <td>95.310000</td>\n",
       "    </tr>\n",
       "    <tr>\n",
       "      <th>1</th>\n",
       "      <td>5089.290000</td>\n",
       "      <td>570</td>\n",
       "      <td>9</td>\n",
       "      <td>0</td>\n",
       "      <td>6</td>\n",
       "      <td>0</td>\n",
       "      <td>2949</td>\n",
       "      <td>0.000000</td>\n",
       "      <td>184.240000</td>\n",
       "      <td>0.300000</td>\n",
       "      <td>0.000000</td>\n",
       "      <td>0.700000</td>\n",
       "    </tr>\n",
       "    <tr>\n",
       "      <th>2</th>\n",
       "      <td>510.000000</td>\n",
       "      <td>187</td>\n",
       "      <td>11</td>\n",
       "      <td>0</td>\n",
       "      <td>41</td>\n",
       "      <td>2</td>\n",
       "      <td>4862</td>\n",
       "      <td>2.000000</td>\n",
       "      <td>9.820000</td>\n",
       "      <td>37.660000</td>\n",
       "      <td>0.000000</td>\n",
       "      <td>0.000000</td>\n",
       "    </tr>\n",
       "    <tr>\n",
       "      <th>3</th>\n",
       "      <td>412.630000</td>\n",
       "      <td>385</td>\n",
       "      <td>1</td>\n",
       "      <td>0</td>\n",
       "      <td>19</td>\n",
       "      <td>2</td>\n",
       "      <td>5316</td>\n",
       "      <td>3.000000</td>\n",
       "      <td>58.000000</td>\n",
       "      <td>14.000000</td>\n",
       "      <td>1.000000</td>\n",
       "      <td>1.000000</td>\n",
       "    </tr>\n",
       "    <tr>\n",
       "      <th>4</th>\n",
       "      <td>4633.000000</td>\n",
       "      <td>26</td>\n",
       "      <td>11</td>\n",
       "      <td>0</td>\n",
       "      <td>12</td>\n",
       "      <td>4</td>\n",
       "      <td>41</td>\n",
       "      <td>0.200000</td>\n",
       "      <td>75.000000</td>\n",
       "      <td>3.000000</td>\n",
       "      <td>0.000000</td>\n",
       "      <td>0.000000</td>\n",
       "    </tr>\n",
       "    <tr>\n",
       "      <th>...</th>\n",
       "      <td>...</td>\n",
       "      <td>...</td>\n",
       "      <td>...</td>\n",
       "      <td>...</td>\n",
       "      <td>...</td>\n",
       "      <td>...</td>\n",
       "      <td>...</td>\n",
       "      <td>...</td>\n",
       "      <td>...</td>\n",
       "      <td>...</td>\n",
       "      <td>...</td>\n",
       "      <td>...</td>\n",
       "    </tr>\n",
       "    <tr>\n",
       "      <th>71</th>\n",
       "      <td>646.454937</td>\n",
       "      <td>390</td>\n",
       "      <td>12</td>\n",
       "      <td>0</td>\n",
       "      <td>37</td>\n",
       "      <td>0</td>\n",
       "      <td>2186</td>\n",
       "      <td>0.718356</td>\n",
       "      <td>110.632412</td>\n",
       "      <td>8.366039</td>\n",
       "      <td>5.144465</td>\n",
       "      <td>40.151281</td>\n",
       "    </tr>\n",
       "    <tr>\n",
       "      <th>72</th>\n",
       "      <td>15589.871208</td>\n",
       "      <td>1612</td>\n",
       "      <td>9</td>\n",
       "      <td>0</td>\n",
       "      <td>26</td>\n",
       "      <td>6</td>\n",
       "      <td>21953</td>\n",
       "      <td>0.385417</td>\n",
       "      <td>142.554491</td>\n",
       "      <td>9.594788</td>\n",
       "      <td>0.000000</td>\n",
       "      <td>0.000000</td>\n",
       "    </tr>\n",
       "    <tr>\n",
       "      <th>73</th>\n",
       "      <td>592.345412</td>\n",
       "      <td>309</td>\n",
       "      <td>10</td>\n",
       "      <td>0</td>\n",
       "      <td>5</td>\n",
       "      <td>4</td>\n",
       "      <td>4661</td>\n",
       "      <td>0.071848</td>\n",
       "      <td>54.071394</td>\n",
       "      <td>2.984034</td>\n",
       "      <td>0.001597</td>\n",
       "      <td>0.017563</td>\n",
       "    </tr>\n",
       "    <tr>\n",
       "      <th>74</th>\n",
       "      <td>3521.221002</td>\n",
       "      <td>544</td>\n",
       "      <td>4</td>\n",
       "      <td>0</td>\n",
       "      <td>7</td>\n",
       "      <td>0</td>\n",
       "      <td>1240</td>\n",
       "      <td>1.616257</td>\n",
       "      <td>89.068503</td>\n",
       "      <td>6.180159</td>\n",
       "      <td>5.169713</td>\n",
       "      <td>19.189816</td>\n",
       "    </tr>\n",
       "    <tr>\n",
       "      <th>75</th>\n",
       "      <td>532.548079</td>\n",
       "      <td>212</td>\n",
       "      <td>9</td>\n",
       "      <td>0</td>\n",
       "      <td>35</td>\n",
       "      <td>1</td>\n",
       "      <td>1996</td>\n",
       "      <td>2.602819</td>\n",
       "      <td>141.000211</td>\n",
       "      <td>17.136972</td>\n",
       "      <td>20.562968</td>\n",
       "      <td>83.246211</td>\n",
       "    </tr>\n",
       "  </tbody>\n",
       "</table>\n",
       "<p>76 rows × 12 columns</p>\n",
       "</div>"
      ],
      "text/plain": [
       "    Issue_Size(crores)  Issue_price  City  Country  Industry  Sector   Size  \\\n",
       "0           600.000000          130     9        0        37       0    874   \n",
       "1          5089.290000          570     9        0         6       0   2949   \n",
       "2           510.000000          187    11        0        41       2   4862   \n",
       "3           412.630000          385     1        0        19       2   5316   \n",
       "4          4633.000000           26    11        0        12       4     41   \n",
       "..                 ...          ...   ...      ...       ...     ...    ...   \n",
       "71          646.454937          390    12        0        37       0   2186   \n",
       "72        15589.871208         1612     9        0        26       6  21953   \n",
       "73          592.345412          309    10        0         5       4   4661   \n",
       "74         3521.221002          544     4        0         7       0   1240   \n",
       "75          532.548079          212     9        0        35       1   1996   \n",
       "\n",
       "    Dividend / Share  Revenue from Operations / share  \\\n",
       "0           0.500000                        60.910000   \n",
       "1           0.000000                       184.240000   \n",
       "2           2.000000                         9.820000   \n",
       "3           3.000000                        58.000000   \n",
       "4           0.200000                        75.000000   \n",
       "..               ...                              ...   \n",
       "71          0.718356                       110.632412   \n",
       "72          0.385417                       142.554491   \n",
       "73          0.071848                        54.071394   \n",
       "74          1.616257                        89.068503   \n",
       "75          2.602819                       141.000211   \n",
       "\n",
       "    Return on Networth / Equity (%)  Dividend Payout Ratio (NP) (%)  \\\n",
       "0                         11.730000                        6.420000   \n",
       "1                          0.300000                        0.000000   \n",
       "2                         37.660000                        0.000000   \n",
       "3                         14.000000                        1.000000   \n",
       "4                          3.000000                        0.000000   \n",
       "..                              ...                             ...   \n",
       "71                         8.366039                        5.144465   \n",
       "72                         9.594788                        0.000000   \n",
       "73                         2.984034                        0.001597   \n",
       "74                         6.180159                        5.169713   \n",
       "75                        17.136972                       20.562968   \n",
       "\n",
       "    Cash Earnings Retention Ratio (%)  \n",
       "0                           95.310000  \n",
       "1                            0.700000  \n",
       "2                            0.000000  \n",
       "3                            1.000000  \n",
       "4                            0.000000  \n",
       "..                                ...  \n",
       "71                          40.151281  \n",
       "72                           0.000000  \n",
       "73                           0.017563  \n",
       "74                          19.189816  \n",
       "75                          83.246211  \n",
       "\n",
       "[76 rows x 12 columns]"
      ]
     },
     "execution_count": 24,
     "metadata": {},
     "output_type": "execute_result"
    }
   ],
   "source": [
    "augmented_X_train"
   ]
  },
  {
   "cell_type": "code",
   "execution_count": 51,
   "metadata": {},
   "outputs": [
    {
     "name": "stdout",
     "output_type": "stream",
     "text": [
      "Accuracy: 0.46\n",
      "              precision    recall  f1-score   support\n",
      "\n",
      "           0       0.20      0.29      0.24         7\n",
      "           1       0.64      0.53      0.58        17\n",
      "\n",
      "    accuracy                           0.46        24\n",
      "   macro avg       0.42      0.41      0.41        24\n",
      "weighted avg       0.51      0.46      0.48        24\n",
      "\n"
     ]
    },
    {
     "name": "stderr",
     "output_type": "stream",
     "text": [
      "C:\\Users\\jothi\\anaconda3\\lib\\site-packages\\sklearn\\linear_model\\_logistic.py:814: ConvergenceWarning: lbfgs failed to converge (status=1):\n",
      "STOP: TOTAL NO. of ITERATIONS REACHED LIMIT.\n",
      "\n",
      "Increase the number of iterations (max_iter) or scale the data as shown in:\n",
      "    https://scikit-learn.org/stable/modules/preprocessing.html\n",
      "Please also refer to the documentation for alternative solver options:\n",
      "    https://scikit-learn.org/stable/modules/linear_model.html#logistic-regression\n",
      "  n_iter_i = _check_optimize_result(\n"
     ]
    }
   ],
   "source": [
    "import numpy as np\n",
    "from sklearn.model_selection import train_test_split\n",
    "from sklearn.linear_model import LogisticRegression\n",
    "from sklearn.metrics import accuracy_score, classification_report\n",
    "\n",
    "logistic_regression_model = LogisticRegression(random_state=42)\n",
    "logistic_regression_model.fit(augmented_X_train, augmented_y_train)\n",
    "\n",
    "\n",
    "y_pred = logistic_regression_model.predict(X_test)\n",
    "\n",
    "\n",
    "accuracy = accuracy_score(y_test, y_pred)\n",
    "print(f\"Accuracy: {accuracy:.2f}\")\n",
    "\n",
    "\n",
    "print(classification_report(y_test, y_pred))\n"
   ]
  },
  {
   "cell_type": "code",
   "execution_count": 28,
   "metadata": {},
   "outputs": [
    {
     "name": "stdout",
     "output_type": "stream",
     "text": [
      "Accuracy: 0.58\n",
      "              precision    recall  f1-score   support\n",
      "\n",
      "           0       0.36      0.57      0.44         7\n",
      "           1       0.77      0.59      0.67        17\n",
      "\n",
      "    accuracy                           0.58        24\n",
      "   macro avg       0.57      0.58      0.56        24\n",
      "weighted avg       0.65      0.58      0.60        24\n",
      "\n"
     ]
    }
   ],
   "source": [
    "from sklearn.tree import DecisionTreeClassifier\n",
    "decision_tree_classifier = DecisionTreeClassifier(random_state=42)\n",
    "decision_tree_classifier.fit(augmented_X_train, augmented_y_train)\n",
    "\n",
    "y_pred3 = decision_tree_classifier.predict(X_test)\n",
    "accuracy = accuracy_score(y_test, y_pred3)\n",
    "print(f\"Accuracy: {accuracy:.2f}\")\n",
    "print(classification_report(y_test, y_pred3))"
   ]
  },
  {
   "cell_type": "code",
   "execution_count": 129,
   "metadata": {},
   "outputs": [
    {
     "name": "stdout",
     "output_type": "stream",
     "text": [
      "Accuracy: 0.62\n",
      "              precision    recall  f1-score   support\n",
      "\n",
      "           0       0.38      0.43      0.40         7\n",
      "           1       0.75      0.71      0.73        17\n",
      "\n",
      "    accuracy                           0.62        24\n",
      "   macro avg       0.56      0.57      0.56        24\n",
      "weighted avg       0.64      0.62      0.63        24\n",
      "\n"
     ]
    }
   ],
   "source": [
    "from sklearn.neighbors import RandomForestClassifier\n",
    "random_forest_classifier = RandomForestClassifier(n_estimators=2, random_state=200)\n",
    "random_forest_classifier.fit(augmented_X_train, augmented_y_train)\n",
    "y_pred2 = random_forest_classifier.predict(X_test)\n",
    "accuracy = accuracy_score(y_test, y_pred2)\n",
    "print(f\"Accuracy: {accuracy:.2f}\")\n",
    "print(classification_report(y_test, y_pred2))"
   ]
  },
  {
   "cell_type": "code",
   "execution_count": 71,
   "metadata": {},
   "outputs": [
    {
     "name": "stdout",
     "output_type": "stream",
     "text": [
      "Test Accuracy: 0.7916666666666666\n",
      "Training Accuracy: 0.8905263157894737\n",
      "              precision    recall  f1-score   support\n",
      "\n",
      "           0       0.62      0.71      0.67         7\n",
      "           1       0.88      0.82      0.85        17\n",
      "\n",
      "    accuracy                           0.79        24\n",
      "   macro avg       0.75      0.77      0.76        24\n",
      "weighted avg       0.80      0.79      0.80        24\n",
      "\n",
      "Accuracy: 0.83\n"
     ]
    }
   ],
   "source": [
    "from xgboost import XGBClassifier\n",
    "model3 = XGBClassifier(n_estimators=30, max_depth=2, learning_rate=0.02, random_state=2)\n",
    "model3.fit(augmented_X_train, augmented_y_train)\n",
    "from sklearn.metrics import accuracy_score\n",
    "\n",
    "y_pred5 = model3.predict(X_test)\n",
    "y_train_pred = model3.predict(augmented_X_train)\n",
    "\n",
    "test_accuracy = accuracy_score(y_test, y_pred5)\n",
    "print(\"Test Accuracy:\", test_accuracy)\n",
    "train_accuracy = accuracy_score(augmented_y_train, y_train_pred)\n",
    "print(\"Training Accuracy:\", train_accuracy)\n",
    "print(classification_report(y_test, y_pred5))\n",
    "print(f\"Accuracy: {accuracy:.2f}\")"
   ]
  },
  {
   "cell_type": "code",
   "execution_count": 45,
   "metadata": {},
   "outputs": [
    {
     "name": "stdout",
     "output_type": "stream",
     "text": [
      "Cross-Validation Scores: [0.86578947 0.86842105 0.93421053 0.86842105 0.86842105]\n",
      "Mean CV Score: 0.8810526315789474\n",
      "Test Accuracy: 0.8333333333333334\n",
      "Training Accuracy: 1.0\n",
      "              precision    recall  f1-score   support\n",
      "\n",
      "           0       0.71      0.71      0.71         7\n",
      "           1       0.88      0.88      0.88        17\n",
      "\n",
      "    accuracy                           0.83        24\n",
      "   macro avg       0.80      0.80      0.80        24\n",
      "weighted avg       0.83      0.83      0.83        24\n",
      "\n",
      "Accuracy: 0.83\n"
     ]
    }
   ],
   "source": [
    "from sklearn.model_selection import cross_val_score\n",
    "model4 = XGBClassifier(n_estimators=100, max_depth=3, learning_rate=0.1, random_state=42)\n",
    "\n",
    "cross_val_scores = cross_val_score(model4, augmented_X_train, augmented_y_train, cv=5, scoring='accuracy')\n",
    "model4.fit(augmented_X_train, augmented_y_train)\n",
    "print(\"Cross-Validation Scores:\", cross_val_scores)\n",
    "print(\"Mean CV Score:\", np.mean(cross_val_scores))\n",
    "y_pred6 = model4.predict(X_test)\n",
    "y_train_pred = model4.predict(augmented_X_train)\n",
    "\n",
    "test_accuracy = accuracy_score(y_test, y_pred6)\n",
    "print(\"Test Accuracy:\", test_accuracy)\n",
    "train_accuracy = accuracy_score(augmented_y_train, y_train_pred)\n",
    "print(\"Training Accuracy:\", train_accuracy)\n",
    "print(classification_report(y_test, y_pred6))\n",
    "print(f\"Accuracy: {accuracy:.2f}\")\n"
   ]
  },
  {
   "cell_type": "code",
   "execution_count": 32,
   "metadata": {},
   "outputs": [],
   "source": [
    "import pickle\n",
    "Pkl_Filename = \"IPOmodel.pkl\"  \n",
    "pickle.dump(model4, open(Pkl_Filename, 'wb'))"
   ]
  },
  {
   "cell_type": "code",
   "execution_count": 33,
   "metadata": {},
   "outputs": [
    {
     "data": {
      "text/plain": [
       "XGBClassifier(base_score=None, booster=None, callbacks=None,\n",
       "              colsample_bylevel=None, colsample_bynode=None,\n",
       "              colsample_bytree=None, device=None, early_stopping_rounds=None,\n",
       "              enable_categorical=False, eval_metric=None, feature_types=None,\n",
       "              gamma=None, grow_policy=None, importance_type=None,\n",
       "              interaction_constraints=None, learning_rate=0.1, max_bin=None,\n",
       "              max_cat_threshold=None, max_cat_to_onehot=None,\n",
       "              max_delta_step=None, max_depth=3, max_leaves=None,\n",
       "              min_child_weight=None, missing=nan, monotone_constraints=None,\n",
       "              multi_strategy=None, n_estimators=100, n_jobs=None,\n",
       "              num_parallel_tree=None, random_state=42, ...)"
      ]
     },
     "execution_count": 33,
     "metadata": {},
     "output_type": "execute_result"
    }
   ],
   "source": [
    "with open(Pkl_Filename, 'rb') as file:  \n",
    "    Pickled_LR_Model = pickle.load(file)\n",
    "\n",
    "Pickled_LR_Model"
   ]
  },
  {
   "cell_type": "code",
   "execution_count": 34,
   "metadata": {},
   "outputs": [
    {
     "name": "stdout",
     "output_type": "stream",
     "text": [
      "Loaded Predictions:\n",
      "[1]\n"
     ]
    }
   ],
   "source": [
    "model_filename = \"IPOmodel.pkl\"\n",
    "\n",
    "# Load the model from the pickle file\n",
    "with open(model_filename, 'rb') as model_file:\n",
    "    loaded_model = pickle.load(model_file)\n",
    "\n",
    "# Now you can use the loaded model to make predictions\n",
    "loaded_predictions = loaded_model.predict([[103 ,345, 34, 0, 43, 432, 21,5432,2,323,2,32]])\n",
    "\n",
    "# Example: Printing the loaded predictions\n",
    "print(\"Loaded Predictions:\")\n",
    "print(loaded_predictions)\n"
   ]
  }
 ],
 "metadata": {
  "kernelspec": {
   "display_name": "Python 3",
   "language": "python",
   "name": "python3"
  },
  "language_info": {
   "codemirror_mode": {
    "name": "ipython",
    "version": 3
   },
   "file_extension": ".py",
   "mimetype": "text/x-python",
   "name": "python",
   "nbconvert_exporter": "python",
   "pygments_lexer": "ipython3",
   "version": "3.8.5"
  }
 },
 "nbformat": 4,
 "nbformat_minor": 4
}
